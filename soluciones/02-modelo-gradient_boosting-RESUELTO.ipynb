{
 "cells": [
  {
   "cell_type": "markdown",
   "metadata": {},
   "source": [
    "# Modelo Gradient Boosting\n",
    "\n",
    "Al igual que la anterior fase de limpieza e inspección, este notebook también se encontrará organizado en diferentes bloques, los cuáles son mostrados a continuación:\n",
    "\n",
    "* **BLOQUE 1**: Partición de los conjuntos de datos\n",
    "* **BLOQUE 2**: Entrenamiento del modelo con todas las variables\n",
    "* **BLOQUE 3**: Reducción del número de variables\n",
    "* **BLOQUE 4**: Ajuste de hiperparámetros y modelo final\n",
    "\n",
    "Asimismo, las primeras celdas corresponderán a la instalación y carga de las librerías necesarias para la ejecución del script."
   ]
  },
  {
   "cell_type": "markdown",
   "metadata": {},
   "source": [
    "### Librerías"
   ]
  },
  {
   "cell_type": "code",
   "execution_count": 1,
   "metadata": {},
   "outputs": [
    {
     "name": "stderr",
     "output_type": "stream",
     "text": [
      "Loading required package: ggplot2\n",
      "\n",
      "Loading required package: lattice\n",
      "\n",
      "Type 'citation(\"pROC\")' for a citation.\n",
      "\n",
      "\n",
      "Attaching package: ‘pROC’\n",
      "\n",
      "\n",
      "The following objects are masked from ‘package:stats’:\n",
      "\n",
      "    cov, smooth, var\n",
      "\n",
      "\n"
     ]
    }
   ],
   "source": [
    "#install.packages('xgboost')\n",
    "#install.packages('caret')\n",
    "#install.packages('e1071')\n",
    "#install.packages('pROC')\n",
    "#install.packages('Ckmeans.1d.dp')\n",
    "#install.packages('ggplot2')\n",
    "#install.packages('DiagrammeR')\n",
    "\n",
    "library(xgboost)\n",
    "library(caret)\n",
    "library(e1071)\n",
    "library(pROC)\n",
    "library(Ckmeans.1d.dp)\n",
    "library(ggplot2)\n",
    "library(DiagrammeR)"
   ]
  },
  {
   "cell_type": "markdown",
   "metadata": {},
   "source": [
    "## BLOQUE 1: Partición de los conjuntos de datos\n",
    "En este primer bloque obtendremos los conjuntos necesarios para realizar el entrenamiento del modelo y poder observar y comparar el resultado del mismo."
   ]
  },
  {
   "cell_type": "code",
   "execution_count": 2,
   "metadata": {},
   "outputs": [
    {
     "data": {
      "text/html": [
       "<table class=\"dataframe\">\n",
       "<caption>A data.frame: 6 × 19</caption>\n",
       "<thead>\n",
       "\t<tr><th></th><th scope=col>numero.granos</th><th scope=col>numero.piezas</th><th scope=col>longitud.objetivo</th><th scope=col>bombeo1</th><th scope=col>bombeo2</th><th scope=col>bombeo3</th><th scope=col>presion1</th><th scope=col>presion2</th><th scope=col>presion3</th><th scope=col>suciedad.molde</th><th scope=col>temperatura1</th><th scope=col>temperatura2</th><th scope=col>tiempo.solido</th><th scope=col>quimico1</th><th scope=col>quimico2</th><th scope=col>quimico3</th><th scope=col>quimico4</th><th scope=col>quimico5</th><th scope=col>defecto</th></tr>\n",
       "\t<tr><th></th><th scope=col>&lt;dbl&gt;</th><th scope=col>&lt;dbl&gt;</th><th scope=col>&lt;dbl&gt;</th><th scope=col>&lt;dbl&gt;</th><th scope=col>&lt;dbl&gt;</th><th scope=col>&lt;dbl&gt;</th><th scope=col>&lt;dbl&gt;</th><th scope=col>&lt;dbl&gt;</th><th scope=col>&lt;dbl&gt;</th><th scope=col>&lt;dbl&gt;</th><th scope=col>&lt;dbl&gt;</th><th scope=col>&lt;dbl&gt;</th><th scope=col>&lt;dbl&gt;</th><th scope=col>&lt;dbl&gt;</th><th scope=col>&lt;dbl&gt;</th><th scope=col>&lt;dbl&gt;</th><th scope=col>&lt;dbl&gt;</th><th scope=col>&lt;dbl&gt;</th><th scope=col>&lt;int&gt;</th></tr>\n",
       "</thead>\n",
       "<tbody>\n",
       "\t<tr><th scope=row>1</th><td>0.1818182</td><td>0.2</td><td>0.2500000</td><td>0.6965610</td><td>0.07782671</td><td>0.31543624</td><td>0.6543779</td><td>0.8219178</td><td>0.5803842</td><td>0.00990099</td><td>0.5614035</td><td>0.5789474</td><td>0.1339973</td><td>0</td><td>0.4126074</td><td>0.2077922</td><td>0.1840909</td><td>0.55</td><td>0</td></tr>\n",
       "\t<tr><th scope=row>2</th><td>1.0000000</td><td>1.0</td><td>0.0000000</td><td>0.6223871</td><td>0.02907488</td><td>0.00000000</td><td>0.7119816</td><td>0.5086758</td><td>0.1051567</td><td>0.73267327</td><td>0.3684211</td><td>0.3859649</td><td>0.1936860</td><td>0</td><td>0.6991404</td><td>0.2077922</td><td>0.8909091</td><td>0.55</td><td>0</td></tr>\n",
       "\t<tr><th scope=row>3</th><td>0.0000000</td><td>0.0</td><td>0.8125000</td><td>0.8651382</td><td>0.07782671</td><td>0.41131352</td><td>0.7119816</td><td>0.8082191</td><td>0.6031345</td><td>0.60396040</td><td>0.6140351</td><td>0.5263158</td><td>0.5113145</td><td>0</td><td>0.4097421</td><td>0.2025974</td><td>0.2045455</td><td>0.45</td><td>1</td></tr>\n",
       "\t<tr><th scope=row>4</th><td>0.0000000</td><td>0.0</td><td>1.0000000</td><td>0.8334457</td><td>0.07488984</td><td>0.43336529</td><td>0.6889401</td><td>0.9196348</td><td>0.1496461</td><td>0.70297030</td><td>0.8947368</td><td>0.9298246</td><td>0.1556628</td><td>0</td><td>0.4269341</td><td>0.1376623</td><td>0.1022727</td><td>0.55</td><td>0</td></tr>\n",
       "\t<tr><th scope=row>5</th><td>0.1818182</td><td>0.4</td><td>0.1354167</td><td>0.7302765</td><td>0.14243760</td><td>0.20325983</td><td>0.7407834</td><td>0.7625571</td><td>0.3225480</td><td>0.79207921</td><td>0.5614035</td><td>0.5964912</td><td>1.0000000</td><td>0</td><td>0.6246418</td><td>0.3948052</td><td>0.6318182</td><td>0.60</td><td>0</td></tr>\n",
       "\t<tr><th scope=row>6</th><td>0.2727273</td><td>0.6</td><td>0.0625000</td><td>1.0000000</td><td>0.14537441</td><td>0.07574305</td><td>1.0000000</td><td>0.7031964</td><td>0.9443883</td><td>0.66336634</td><td>0.4035088</td><td>0.3684211</td><td>0.2014265</td><td>0</td><td>0.6303725</td><td>0.4649351</td><td>0.9068182</td><td>0.25</td><td>0</td></tr>\n",
       "</tbody>\n",
       "</table>\n"
      ],
      "text/latex": [
       "A data.frame: 6 × 19\n",
       "\\begin{tabular}{r|lllllllllllllllllll}\n",
       "  & numero.granos & numero.piezas & longitud.objetivo & bombeo1 & bombeo2 & bombeo3 & presion1 & presion2 & presion3 & suciedad.molde & temperatura1 & temperatura2 & tiempo.solido & quimico1 & quimico2 & quimico3 & quimico4 & quimico5 & defecto\\\\\n",
       "  & <dbl> & <dbl> & <dbl> & <dbl> & <dbl> & <dbl> & <dbl> & <dbl> & <dbl> & <dbl> & <dbl> & <dbl> & <dbl> & <dbl> & <dbl> & <dbl> & <dbl> & <dbl> & <int>\\\\\n",
       "\\hline\n",
       "\t1 & 0.1818182 & 0.2 & 0.2500000 & 0.6965610 & 0.07782671 & 0.31543624 & 0.6543779 & 0.8219178 & 0.5803842 & 0.00990099 & 0.5614035 & 0.5789474 & 0.1339973 & 0 & 0.4126074 & 0.2077922 & 0.1840909 & 0.55 & 0\\\\\n",
       "\t2 & 1.0000000 & 1.0 & 0.0000000 & 0.6223871 & 0.02907488 & 0.00000000 & 0.7119816 & 0.5086758 & 0.1051567 & 0.73267327 & 0.3684211 & 0.3859649 & 0.1936860 & 0 & 0.6991404 & 0.2077922 & 0.8909091 & 0.55 & 0\\\\\n",
       "\t3 & 0.0000000 & 0.0 & 0.8125000 & 0.8651382 & 0.07782671 & 0.41131352 & 0.7119816 & 0.8082191 & 0.6031345 & 0.60396040 & 0.6140351 & 0.5263158 & 0.5113145 & 0 & 0.4097421 & 0.2025974 & 0.2045455 & 0.45 & 1\\\\\n",
       "\t4 & 0.0000000 & 0.0 & 1.0000000 & 0.8334457 & 0.07488984 & 0.43336529 & 0.6889401 & 0.9196348 & 0.1496461 & 0.70297030 & 0.8947368 & 0.9298246 & 0.1556628 & 0 & 0.4269341 & 0.1376623 & 0.1022727 & 0.55 & 0\\\\\n",
       "\t5 & 0.1818182 & 0.4 & 0.1354167 & 0.7302765 & 0.14243760 & 0.20325983 & 0.7407834 & 0.7625571 & 0.3225480 & 0.79207921 & 0.5614035 & 0.5964912 & 1.0000000 & 0 & 0.6246418 & 0.3948052 & 0.6318182 & 0.60 & 0\\\\\n",
       "\t6 & 0.2727273 & 0.6 & 0.0625000 & 1.0000000 & 0.14537441 & 0.07574305 & 1.0000000 & 0.7031964 & 0.9443883 & 0.66336634 & 0.4035088 & 0.3684211 & 0.2014265 & 0 & 0.6303725 & 0.4649351 & 0.9068182 & 0.25 & 0\\\\\n",
       "\\end{tabular}\n"
      ],
      "text/markdown": [
       "\n",
       "A data.frame: 6 × 19\n",
       "\n",
       "| <!--/--> | numero.granos &lt;dbl&gt; | numero.piezas &lt;dbl&gt; | longitud.objetivo &lt;dbl&gt; | bombeo1 &lt;dbl&gt; | bombeo2 &lt;dbl&gt; | bombeo3 &lt;dbl&gt; | presion1 &lt;dbl&gt; | presion2 &lt;dbl&gt; | presion3 &lt;dbl&gt; | suciedad.molde &lt;dbl&gt; | temperatura1 &lt;dbl&gt; | temperatura2 &lt;dbl&gt; | tiempo.solido &lt;dbl&gt; | quimico1 &lt;dbl&gt; | quimico2 &lt;dbl&gt; | quimico3 &lt;dbl&gt; | quimico4 &lt;dbl&gt; | quimico5 &lt;dbl&gt; | defecto &lt;int&gt; |\n",
       "|---|---|---|---|---|---|---|---|---|---|---|---|---|---|---|---|---|---|---|---|\n",
       "| 1 | 0.1818182 | 0.2 | 0.2500000 | 0.6965610 | 0.07782671 | 0.31543624 | 0.6543779 | 0.8219178 | 0.5803842 | 0.00990099 | 0.5614035 | 0.5789474 | 0.1339973 | 0 | 0.4126074 | 0.2077922 | 0.1840909 | 0.55 | 0 |\n",
       "| 2 | 1.0000000 | 1.0 | 0.0000000 | 0.6223871 | 0.02907488 | 0.00000000 | 0.7119816 | 0.5086758 | 0.1051567 | 0.73267327 | 0.3684211 | 0.3859649 | 0.1936860 | 0 | 0.6991404 | 0.2077922 | 0.8909091 | 0.55 | 0 |\n",
       "| 3 | 0.0000000 | 0.0 | 0.8125000 | 0.8651382 | 0.07782671 | 0.41131352 | 0.7119816 | 0.8082191 | 0.6031345 | 0.60396040 | 0.6140351 | 0.5263158 | 0.5113145 | 0 | 0.4097421 | 0.2025974 | 0.2045455 | 0.45 | 1 |\n",
       "| 4 | 0.0000000 | 0.0 | 1.0000000 | 0.8334457 | 0.07488984 | 0.43336529 | 0.6889401 | 0.9196348 | 0.1496461 | 0.70297030 | 0.8947368 | 0.9298246 | 0.1556628 | 0 | 0.4269341 | 0.1376623 | 0.1022727 | 0.55 | 0 |\n",
       "| 5 | 0.1818182 | 0.4 | 0.1354167 | 0.7302765 | 0.14243760 | 0.20325983 | 0.7407834 | 0.7625571 | 0.3225480 | 0.79207921 | 0.5614035 | 0.5964912 | 1.0000000 | 0 | 0.6246418 | 0.3948052 | 0.6318182 | 0.60 | 0 |\n",
       "| 6 | 0.2727273 | 0.6 | 0.0625000 | 1.0000000 | 0.14537441 | 0.07574305 | 1.0000000 | 0.7031964 | 0.9443883 | 0.66336634 | 0.4035088 | 0.3684211 | 0.2014265 | 0 | 0.6303725 | 0.4649351 | 0.9068182 | 0.25 | 0 |\n",
       "\n"
      ],
      "text/plain": [
       "  numero.granos numero.piezas longitud.objetivo bombeo1   bombeo2    bombeo3   \n",
       "1 0.1818182     0.2           0.2500000         0.6965610 0.07782671 0.31543624\n",
       "2 1.0000000     1.0           0.0000000         0.6223871 0.02907488 0.00000000\n",
       "3 0.0000000     0.0           0.8125000         0.8651382 0.07782671 0.41131352\n",
       "4 0.0000000     0.0           1.0000000         0.8334457 0.07488984 0.43336529\n",
       "5 0.1818182     0.4           0.1354167         0.7302765 0.14243760 0.20325983\n",
       "6 0.2727273     0.6           0.0625000         1.0000000 0.14537441 0.07574305\n",
       "  presion1  presion2  presion3  suciedad.molde temperatura1 temperatura2\n",
       "1 0.6543779 0.8219178 0.5803842 0.00990099     0.5614035    0.5789474   \n",
       "2 0.7119816 0.5086758 0.1051567 0.73267327     0.3684211    0.3859649   \n",
       "3 0.7119816 0.8082191 0.6031345 0.60396040     0.6140351    0.5263158   \n",
       "4 0.6889401 0.9196348 0.1496461 0.70297030     0.8947368    0.9298246   \n",
       "5 0.7407834 0.7625571 0.3225480 0.79207921     0.5614035    0.5964912   \n",
       "6 1.0000000 0.7031964 0.9443883 0.66336634     0.4035088    0.3684211   \n",
       "  tiempo.solido quimico1 quimico2  quimico3  quimico4  quimico5 defecto\n",
       "1 0.1339973     0        0.4126074 0.2077922 0.1840909 0.55     0      \n",
       "2 0.1936860     0        0.6991404 0.2077922 0.8909091 0.55     0      \n",
       "3 0.5113145     0        0.4097421 0.2025974 0.2045455 0.45     1      \n",
       "4 0.1556628     0        0.4269341 0.1376623 0.1022727 0.55     0      \n",
       "5 1.0000000     0        0.6246418 0.3948052 0.6318182 0.60     0      \n",
       "6 0.2014265     0        0.6303725 0.4649351 0.9068182 0.25     0      "
      ]
     },
     "metadata": {},
     "output_type": "display_data"
    }
   ],
   "source": [
    "# Lectura del fichero .csv obtenido\n",
    "data <- read.csv('dataPrepared.csv', sep = ',', header = TRUE)\n",
    "head(data)"
   ]
  },
  {
   "cell_type": "markdown",
   "metadata": {},
   "source": [
    "El objetivo de esta fase es la de dividir el dataset anterior en tres conjuntos distintos teniendo en cuenta que el número de observaciones entre clases es muy distinto:\n",
    "\n",
    "* Conjunto de entrenamiento -> balanceado \n",
    "* Conjunto de validación  -> balanceado\n",
    "* Conjunto de test -> no balanceado\n",
    "\n",
    "_Balanceado_ : mismo número de observaciones de cada clase\n",
    "\n",
    "El proceso a seguir es el siguiente:\n",
    "![particion_balanceo](img/particion_balanceo.png)"
   ]
  },
  {
   "cell_type": "code",
   "execution_count": 3,
   "metadata": {},
   "outputs": [
    {
     "name": "stdout",
     "output_type": "stream",
     "text": [
      "[1] 2704   19\n",
      "[1] 1158   19\n"
     ]
    },
    {
     "data": {
      "text/plain": [
       "\n",
       "    0     1 \n",
       "88.57 11.43 "
      ]
     },
     "metadata": {},
     "output_type": "display_data"
    },
    {
     "data": {
      "text/plain": [
       "\n",
       "    0     1 \n",
       "89.29 10.71 "
      ]
     },
     "metadata": {},
     "output_type": "display_data"
    }
   ],
   "source": [
    "# Primera partición: Obtención del conjunto de test\n",
    "n <- nrow(data)\n",
    "set.seed(0)\n",
    "\n",
    "train_index <- createDataPartition(data$defecto, p = .7, list = FALSE, times = 1)\n",
    "\n",
    "entrenamiento <- data[train_index, ]  # Conjunto aún a dividir entre entrenamiento y validación\n",
    "df_test <- data[-train_index, ]\n",
    "\n",
    "print(dim(entrenamiento))\n",
    "print(dim(df_test))\n",
    "\n",
    "round(table(entrenamiento$defecto)/nrow(entrenamiento)*100, 2)\n",
    "round(table(df_test$defecto)/nrow(df_test)*100, 2)"
   ]
  },
  {
   "cell_type": "code",
   "execution_count": 4,
   "metadata": {},
   "outputs": [
    {
     "name": "stdout",
     "output_type": "stream",
     "text": [
      "No defectos en el conjunto: 2395 \n",
      "Defectos en conjunto: 309"
     ]
    }
   ],
   "source": [
    "# Segunda partición: Obtención de los conjuntos de entrenamiento y validación\n",
    "# IMPORTANTE!!: Balanceo de datasets. ¿Por qué?\n",
    "cat('No defectos en el conjunto:', nrow(entrenamiento[entrenamiento$defecto == 0, ]), '\\n')\n",
    "cat('Defectos en conjunto:', nrow(entrenamiento[entrenamiento$defecto == 1, ]))"
   ]
  },
  {
   "cell_type": "code",
   "execution_count": 5,
   "metadata": {},
   "outputs": [
    {
     "name": "stdout",
     "output_type": "stream",
     "text": [
      "[1] 618\n"
     ]
    },
    {
     "data": {
      "text/plain": [
       "\n",
       "  0   1 \n",
       "309 309 "
      ]
     },
     "metadata": {},
     "output_type": "display_data"
    }
   ],
   "source": [
    "# Balanceo \n",
    "\n",
    "# Balanceo de conjuntos.\n",
    "set.seed(0)\n",
    "entrenamiento_balanceado <- downSample(entrenamiento[, -20], factor(entrenamiento$defecto), list = FALSE)\n",
    "entrenamiento_balanceado <- subset(entrenamiento_balanceado, select=-Class)\n",
    "\n",
    "print(nrow(entrenamiento_balanceado))\n",
    "table(entrenamiento_balanceado$defecto)"
   ]
  },
  {
   "cell_type": "code",
   "execution_count": 6,
   "metadata": {},
   "outputs": [],
   "source": [
    "# Segunda partición\n",
    "\n",
    "set.seed(0)\n",
    "train_index2 <- createDataPartition(entrenamiento_balanceado$defecto, p = .7, list = FALSE, times = 1)\n",
    "\n",
    "df_train <- entrenamiento_balanceado[train_index2, ]\n",
    "df_valid <- entrenamiento_balanceado[-train_index2, ]"
   ]
  },
  {
   "cell_type": "code",
   "execution_count": 7,
   "metadata": {},
   "outputs": [
    {
     "name": "stdout",
     "output_type": "stream",
     "text": [
      "Tamaño del conjunto de entrenamiento: 434 \n",
      "Tamaño del conjunto de validación: 184 \n",
      "Tamaño del conjunto de test: 1158"
     ]
    }
   ],
   "source": [
    "# Tamaño final de los conjuntos.\n",
    "cat('Tamaño del conjunto de entrenamiento:', nrow(df_train), '\\n')\n",
    "cat('Tamaño del conjunto de validación:', nrow(df_valid), '\\n')\n",
    "cat('Tamaño del conjunto de test:', nrow(df_test))"
   ]
  },
  {
   "cell_type": "code",
   "execution_count": 8,
   "metadata": {},
   "outputs": [],
   "source": [
    "# Separamos de los conjuntos la variable objeto de estudio\n",
    "# Convertir en matrices, ya que la función para entrenar el modelo XGB no permite utilizar dataframes\n",
    "X_train <- as.matrix(df_train[, which(names(df_train) != 'defecto')])\n",
    "y_train <- df_train[, 'defecto']\n",
    "\n",
    "X_valid <- as.matrix(df_valid[, which(names(df_valid) != 'defecto')])\n",
    "y_valid <- df_valid[, 'defecto']\n",
    "\n",
    "X_test <- as.matrix(df_test[, which(names(df_test) != 'defecto')])\n",
    "y_test <- df_test[, 'defecto']"
   ]
  },
  {
   "cell_type": "markdown",
   "metadata": {},
   "source": [
    "## BLOQUE 2: Entrenamiento del modelo con todas las variables\n",
    "\n",
    "#### **¿Qué es _Boosting_?**\n",
    "\n",
    "_Boosting_ es un meta-algoritmo de aprendizaje automático que reduce el sesgo y la varianza en un contexto de aprendizaje supervisado. Consiste en combinar los resultados de varios clasificadores débiles para obtener un clasificador robusto. Cuando se añaden estos clasificadores débiles, se hace de modo que éstos tengan diferente peso en función de la exactitud de sus predicciones. Tras añadir un clasificador débil, los datos cambian su estructura de pesos: los casos mal clasificados ganan peso y los que son clasificados correctamente pierden peso. \n",
    "\n",
    "**Gradient Boosting (GB)** o _Potenciación del gradiente_ consiste en plantear el problema como una optimización numérica en el que el objetivo es minimizar una función de coste añadiendo clasificadores débiles mediante el descenso del gradiente. Involucra tres elementos:\n",
    "\n",
    "* La **función de coste** a optimizar: depende del tipo de problema a resolver.\n",
    "* Un **clasificador débil** para hacer las predicciones: por lo general se usan árboles de decisión.\n",
    "* Un **modelo que añade (ensambla) los clasificadores débiles** para minimizar la función de coste: se usa el descenso del gradiente para minimizar el coste al añadir árboles.\n",
    "\n",
    "Para este problema utilizaremos la librería _XGBoost_, que es una implementación particular muy eficiente de Gradient Boosting.\n",
    "\n",
    "Tutoriales de la librería en R:\n",
    "* https://xgboost.readthedocs.io/en/latest/R-package/xgboostPresentation.html\n",
    "* http://dmlc.github.io/rstats/2016/03/10/xgboost.html\n",
    "\n",
    "Los hiperparámetros más importantes que intervienen en este algoritmo y que aquí utilizaremos se describen a continuación:\n",
    "\n",
    "* Parámetros generales:\n",
    " * **nthread**: número de hilos paralelos usados en la ejecución.\n",
    " * **objetive**: objetivo del aprendizaje.\n",
    " * **eval_metric**: métrica de evaluación para el conjunto en cuestión.\n",
    " \n",
    " \n",
    "* Parámetros propios del _Boosting_:\n",
    " * **eta (learning rate)**: determina el impacto de cada árbol en la salida final. Se parte de una estimación inicial que se va actualizando con la salida de cada árbol. Es el parámetro que controla la magnitud de las actualizaciones.\n",
    " * **nrounds**: número de árboles a utilizar.\n",
    "\n",
    "\n",
    "* Parámetros propios de los árboles:\n",
    " * **max_depth**: profundidad máxima de un árbol.\n",
    " \n",
    "Más información sobre los parámetros y la librería en general:\n",
    "* https://xgboost.readthedocs.io/en/latest/parameter.html"
   ]
  },
  {
   "cell_type": "code",
   "execution_count": 9,
   "metadata": {},
   "outputs": [
    {
     "data": {
      "text/html": [
       "<table class=\"dataframe\">\n",
       "<caption>A matrix: 6 × 18 of type dbl</caption>\n",
       "<thead>\n",
       "\t<tr><th></th><th scope=col>numero.granos</th><th scope=col>numero.piezas</th><th scope=col>longitud.objetivo</th><th scope=col>bombeo1</th><th scope=col>bombeo2</th><th scope=col>bombeo3</th><th scope=col>presion1</th><th scope=col>presion2</th><th scope=col>presion3</th><th scope=col>suciedad.molde</th><th scope=col>temperatura1</th><th scope=col>temperatura2</th><th scope=col>tiempo.solido</th><th scope=col>quimico1</th><th scope=col>quimico2</th><th scope=col>quimico3</th><th scope=col>quimico4</th><th scope=col>quimico5</th></tr>\n",
       "</thead>\n",
       "<tbody>\n",
       "\t<tr><th scope=row>1</th><td>0.4545455</td><td>0.6</td><td>0.0625000</td><td>0.8651382</td><td>0.07400882</td><td>0.2924257</td><td>0.6370968</td><td>0.8648402</td><td>0.1557129</td><td>1.0000000</td><td>0.5438596</td><td>0.5438596</td><td>0.16277931</td><td>0</td><td>0.4240688</td><td>0.05974026</td><td>0.06363636</td><td>0.50</td></tr>\n",
       "\t<tr><th scope=row>2</th><td>0.2727273</td><td>0.4</td><td>0.1354167</td><td>0.6999326</td><td>0.08076358</td><td>0.3279003</td><td>0.7523041</td><td>0.9086758</td><td>0.1557129</td><td>0.1386139</td><td>0.4385965</td><td>0.4561404</td><td>0.17997425</td><td>0</td><td>0.5931232</td><td>0.40000000</td><td>0.66363636</td><td>0.35</td></tr>\n",
       "\t<tr><th scope=row>4</th><td>1.0000000</td><td>1.0</td><td>0.0000000</td><td>0.4571814</td><td>0.02907488</td><td>0.0000000</td><td>0.8041475</td><td>0.5251142</td><td>0.1253792</td><td>0.7326733</td><td>0.4736842</td><td>0.4912281</td><td>0.24512073</td><td>0</td><td>0.7106017</td><td>0.23376623</td><td>0.86818182</td><td>0.75</td></tr>\n",
       "\t<tr><th scope=row>6</th><td>0.4545455</td><td>0.6</td><td>0.0625000</td><td>0.6999326</td><td>0.07488984</td><td>0.3279003</td><td>0.7523041</td><td>0.9589041</td><td>0.1102123</td><td>0.8118812</td><td>0.7894737</td><td>0.7543860</td><td>0.09758544</td><td>0</td><td>0.4126074</td><td>0.23896104</td><td>0.20909091</td><td>0.55</td></tr>\n",
       "\t<tr><th scope=row>9</th><td>0.4545455</td><td>0.6</td><td>0.0625000</td><td>0.8213082</td><td>0.07782671</td><td>0.4995206</td><td>0.6486175</td><td>0.8566210</td><td>0.6476238</td><td>0.6039604</td><td>0.5614035</td><td>0.5438596</td><td>0.08937894</td><td>0</td><td>0.3954155</td><td>0.11948052</td><td>0.22500000</td><td>0.35</td></tr>\n",
       "\t<tr><th scope=row>13</th><td>0.4545455</td><td>0.6</td><td>0.0625000</td><td>0.6965610</td><td>0.08370039</td><td>0.3154362</td><td>0.6543779</td><td>0.7945205</td><td>0.6107179</td><td>0.0000000</td><td>0.5614035</td><td>0.5614035</td><td>0.11764752</td><td>0</td><td>0.4212034</td><td>0.16883117</td><td>0.21818182</td><td>0.35</td></tr>\n",
       "</tbody>\n",
       "</table>\n"
      ],
      "text/latex": [
       "A matrix: 6 × 18 of type dbl\n",
       "\\begin{tabular}{r|llllllllllllllllll}\n",
       "  & numero.granos & numero.piezas & longitud.objetivo & bombeo1 & bombeo2 & bombeo3 & presion1 & presion2 & presion3 & suciedad.molde & temperatura1 & temperatura2 & tiempo.solido & quimico1 & quimico2 & quimico3 & quimico4 & quimico5\\\\\n",
       "\\hline\n",
       "\t1 & 0.4545455 & 0.6 & 0.0625000 & 0.8651382 & 0.07400882 & 0.2924257 & 0.6370968 & 0.8648402 & 0.1557129 & 1.0000000 & 0.5438596 & 0.5438596 & 0.16277931 & 0 & 0.4240688 & 0.05974026 & 0.06363636 & 0.50\\\\\n",
       "\t2 & 0.2727273 & 0.4 & 0.1354167 & 0.6999326 & 0.08076358 & 0.3279003 & 0.7523041 & 0.9086758 & 0.1557129 & 0.1386139 & 0.4385965 & 0.4561404 & 0.17997425 & 0 & 0.5931232 & 0.40000000 & 0.66363636 & 0.35\\\\\n",
       "\t4 & 1.0000000 & 1.0 & 0.0000000 & 0.4571814 & 0.02907488 & 0.0000000 & 0.8041475 & 0.5251142 & 0.1253792 & 0.7326733 & 0.4736842 & 0.4912281 & 0.24512073 & 0 & 0.7106017 & 0.23376623 & 0.86818182 & 0.75\\\\\n",
       "\t6 & 0.4545455 & 0.6 & 0.0625000 & 0.6999326 & 0.07488984 & 0.3279003 & 0.7523041 & 0.9589041 & 0.1102123 & 0.8118812 & 0.7894737 & 0.7543860 & 0.09758544 & 0 & 0.4126074 & 0.23896104 & 0.20909091 & 0.55\\\\\n",
       "\t9 & 0.4545455 & 0.6 & 0.0625000 & 0.8213082 & 0.07782671 & 0.4995206 & 0.6486175 & 0.8566210 & 0.6476238 & 0.6039604 & 0.5614035 & 0.5438596 & 0.08937894 & 0 & 0.3954155 & 0.11948052 & 0.22500000 & 0.35\\\\\n",
       "\t13 & 0.4545455 & 0.6 & 0.0625000 & 0.6965610 & 0.08370039 & 0.3154362 & 0.6543779 & 0.7945205 & 0.6107179 & 0.0000000 & 0.5614035 & 0.5614035 & 0.11764752 & 0 & 0.4212034 & 0.16883117 & 0.21818182 & 0.35\\\\\n",
       "\\end{tabular}\n"
      ],
      "text/markdown": [
       "\n",
       "A matrix: 6 × 18 of type dbl\n",
       "\n",
       "| <!--/--> | numero.granos | numero.piezas | longitud.objetivo | bombeo1 | bombeo2 | bombeo3 | presion1 | presion2 | presion3 | suciedad.molde | temperatura1 | temperatura2 | tiempo.solido | quimico1 | quimico2 | quimico3 | quimico4 | quimico5 |\n",
       "|---|---|---|---|---|---|---|---|---|---|---|---|---|---|---|---|---|---|---|\n",
       "| 1 | 0.4545455 | 0.6 | 0.0625000 | 0.8651382 | 0.07400882 | 0.2924257 | 0.6370968 | 0.8648402 | 0.1557129 | 1.0000000 | 0.5438596 | 0.5438596 | 0.16277931 | 0 | 0.4240688 | 0.05974026 | 0.06363636 | 0.50 |\n",
       "| 2 | 0.2727273 | 0.4 | 0.1354167 | 0.6999326 | 0.08076358 | 0.3279003 | 0.7523041 | 0.9086758 | 0.1557129 | 0.1386139 | 0.4385965 | 0.4561404 | 0.17997425 | 0 | 0.5931232 | 0.40000000 | 0.66363636 | 0.35 |\n",
       "| 4 | 1.0000000 | 1.0 | 0.0000000 | 0.4571814 | 0.02907488 | 0.0000000 | 0.8041475 | 0.5251142 | 0.1253792 | 0.7326733 | 0.4736842 | 0.4912281 | 0.24512073 | 0 | 0.7106017 | 0.23376623 | 0.86818182 | 0.75 |\n",
       "| 6 | 0.4545455 | 0.6 | 0.0625000 | 0.6999326 | 0.07488984 | 0.3279003 | 0.7523041 | 0.9589041 | 0.1102123 | 0.8118812 | 0.7894737 | 0.7543860 | 0.09758544 | 0 | 0.4126074 | 0.23896104 | 0.20909091 | 0.55 |\n",
       "| 9 | 0.4545455 | 0.6 | 0.0625000 | 0.8213082 | 0.07782671 | 0.4995206 | 0.6486175 | 0.8566210 | 0.6476238 | 0.6039604 | 0.5614035 | 0.5438596 | 0.08937894 | 0 | 0.3954155 | 0.11948052 | 0.22500000 | 0.35 |\n",
       "| 13 | 0.4545455 | 0.6 | 0.0625000 | 0.6965610 | 0.08370039 | 0.3154362 | 0.6543779 | 0.7945205 | 0.6107179 | 0.0000000 | 0.5614035 | 0.5614035 | 0.11764752 | 0 | 0.4212034 | 0.16883117 | 0.21818182 | 0.35 |\n",
       "\n"
      ],
      "text/plain": [
       "   numero.granos numero.piezas longitud.objetivo bombeo1   bombeo2    bombeo3  \n",
       "1  0.4545455     0.6           0.0625000         0.8651382 0.07400882 0.2924257\n",
       "2  0.2727273     0.4           0.1354167         0.6999326 0.08076358 0.3279003\n",
       "4  1.0000000     1.0           0.0000000         0.4571814 0.02907488 0.0000000\n",
       "6  0.4545455     0.6           0.0625000         0.6999326 0.07488984 0.3279003\n",
       "9  0.4545455     0.6           0.0625000         0.8213082 0.07782671 0.4995206\n",
       "13 0.4545455     0.6           0.0625000         0.6965610 0.08370039 0.3154362\n",
       "   presion1  presion2  presion3  suciedad.molde temperatura1 temperatura2\n",
       "1  0.6370968 0.8648402 0.1557129 1.0000000      0.5438596    0.5438596   \n",
       "2  0.7523041 0.9086758 0.1557129 0.1386139      0.4385965    0.4561404   \n",
       "4  0.8041475 0.5251142 0.1253792 0.7326733      0.4736842    0.4912281   \n",
       "6  0.7523041 0.9589041 0.1102123 0.8118812      0.7894737    0.7543860   \n",
       "9  0.6486175 0.8566210 0.6476238 0.6039604      0.5614035    0.5438596   \n",
       "13 0.6543779 0.7945205 0.6107179 0.0000000      0.5614035    0.5614035   \n",
       "   tiempo.solido quimico1 quimico2  quimico3   quimico4   quimico5\n",
       "1  0.16277931    0        0.4240688 0.05974026 0.06363636 0.50    \n",
       "2  0.17997425    0        0.5931232 0.40000000 0.66363636 0.35    \n",
       "4  0.24512073    0        0.7106017 0.23376623 0.86818182 0.75    \n",
       "6  0.09758544    0        0.4126074 0.23896104 0.20909091 0.55    \n",
       "9  0.08937894    0        0.3954155 0.11948052 0.22500000 0.35    \n",
       "13 0.11764752    0        0.4212034 0.16883117 0.21818182 0.35    "
      ]
     },
     "metadata": {},
     "output_type": "display_data"
    }
   ],
   "source": [
    "head(X_train)"
   ]
  },
  {
   "cell_type": "code",
   "execution_count": 10,
   "metadata": {},
   "outputs": [
    {
     "name": "stdout",
     "output_type": "stream",
     "text": [
      "[1]\ttrain-auc:0.934571 \n",
      "[2]\ttrain-auc:0.959884 \n",
      "[3]\ttrain-auc:0.969887 \n",
      "[4]\ttrain-auc:0.983690 \n",
      "[5]\ttrain-auc:0.988171 \n",
      "[6]\ttrain-auc:0.990189 \n",
      "[7]\ttrain-auc:0.993735 \n",
      "[8]\ttrain-auc:0.995923 \n",
      "[9]\ttrain-auc:0.997473 \n",
      "[10]\ttrain-auc:0.998067 \n",
      "[11]\ttrain-auc:0.998790 \n",
      "[12]\ttrain-auc:0.999151 \n",
      "[13]\ttrain-auc:0.999384 \n",
      "[14]\ttrain-auc:0.999512 \n",
      "[15]\ttrain-auc:0.999554 \n",
      "[16]\ttrain-auc:0.999735 \n",
      "[17]\ttrain-auc:0.999841 \n",
      "[18]\ttrain-auc:0.999841 \n",
      "[19]\ttrain-auc:0.999841 \n",
      "[20]\ttrain-auc:0.999894 \n",
      "[21]\ttrain-auc:0.999894 \n",
      "[22]\ttrain-auc:0.999915 \n",
      "[23]\ttrain-auc:0.999936 \n",
      "[24]\ttrain-auc:0.999958 \n",
      "[25]\ttrain-auc:0.999958 \n",
      "[26]\ttrain-auc:0.999958 \n",
      "[27]\ttrain-auc:0.999979 \n",
      "[28]\ttrain-auc:0.999979 \n",
      "[29]\ttrain-auc:1.000000 \n",
      "[30]\ttrain-auc:1.000000 \n"
     ]
    }
   ],
   "source": [
    "params <- list(nthread = 4,\n",
    "               max_depth = 6,\n",
    "               eta = 0.3,\n",
    "               eval_metric = 'auc',\n",
    "               objective = 'binary:logistic')\n",
    "\n",
    "set.seed(0)\n",
    "xgb_model <- xgboost(data = X_train, label = y_train, params = params, nrounds = 30, verbose = 1)"
   ]
  },
  {
   "cell_type": "code",
   "execution_count": 11,
   "metadata": {},
   "outputs": [
    {
     "data": {
      "text/html": [
       "<table class=\"dataframe\">\n",
       "<caption>A data.table: 17 × 4</caption>\n",
       "<thead>\n",
       "\t<tr><th scope=col>Feature</th><th scope=col>Gain</th><th scope=col>Cover</th><th scope=col>Frequency</th></tr>\n",
       "\t<tr><th scope=col>&lt;chr&gt;</th><th scope=col>&lt;dbl&gt;</th><th scope=col>&lt;dbl&gt;</th><th scope=col>&lt;dbl&gt;</th></tr>\n",
       "</thead>\n",
       "<tbody>\n",
       "\t<tr><td>longitud.objetivo</td><td>0.301916313</td><td>0.112005495</td><td>0.02466793</td></tr>\n",
       "\t<tr><td>quimico4         </td><td>0.108361386</td><td>0.104947270</td><td>0.10056926</td></tr>\n",
       "\t<tr><td>temperatura1     </td><td>0.107264960</td><td>0.109254448</td><td>0.07779886</td></tr>\n",
       "\t<tr><td>tiempo.solido    </td><td>0.087132920</td><td>0.136052409</td><td>0.16698292</td></tr>\n",
       "\t<tr><td>presion2         </td><td>0.079289561</td><td>0.086340069</td><td>0.09487666</td></tr>\n",
       "\t<tr><td>bombeo2          </td><td>0.053402147</td><td>0.041750260</td><td>0.04933586</td></tr>\n",
       "\t<tr><td>suciedad.molde   </td><td>0.051152066</td><td>0.063542231</td><td>0.06641366</td></tr>\n",
       "\t<tr><td>presion3         </td><td>0.047893703</td><td>0.078506885</td><td>0.08159393</td></tr>\n",
       "\t<tr><td>quimico2         </td><td>0.042436978</td><td>0.076624305</td><td>0.08728653</td></tr>\n",
       "\t<tr><td>quimico3         </td><td>0.026310798</td><td>0.041287965</td><td>0.05882353</td></tr>\n",
       "\t<tr><td>bombeo1          </td><td>0.019876904</td><td>0.019548540</td><td>0.02087287</td></tr>\n",
       "\t<tr><td>temperatura2     </td><td>0.018428276</td><td>0.028394787</td><td>0.04933586</td></tr>\n",
       "\t<tr><td>quimico5         </td><td>0.016155645</td><td>0.022990863</td><td>0.03984820</td></tr>\n",
       "\t<tr><td>bombeo3          </td><td>0.013662958</td><td>0.012632262</td><td>0.02277040</td></tr>\n",
       "\t<tr><td>numero.piezas    </td><td>0.011604193</td><td>0.026870533</td><td>0.01138520</td></tr>\n",
       "\t<tr><td>presion1         </td><td>0.008266548</td><td>0.009290592</td><td>0.02277040</td></tr>\n",
       "\t<tr><td>numero.granos    </td><td>0.006844642</td><td>0.029961088</td><td>0.02466793</td></tr>\n",
       "</tbody>\n",
       "</table>\n"
      ],
      "text/latex": [
       "A data.table: 17 × 4\n",
       "\\begin{tabular}{llll}\n",
       " Feature & Gain & Cover & Frequency\\\\\n",
       " <chr> & <dbl> & <dbl> & <dbl>\\\\\n",
       "\\hline\n",
       "\t longitud.objetivo & 0.301916313 & 0.112005495 & 0.02466793\\\\\n",
       "\t quimico4          & 0.108361386 & 0.104947270 & 0.10056926\\\\\n",
       "\t temperatura1      & 0.107264960 & 0.109254448 & 0.07779886\\\\\n",
       "\t tiempo.solido     & 0.087132920 & 0.136052409 & 0.16698292\\\\\n",
       "\t presion2          & 0.079289561 & 0.086340069 & 0.09487666\\\\\n",
       "\t bombeo2           & 0.053402147 & 0.041750260 & 0.04933586\\\\\n",
       "\t suciedad.molde    & 0.051152066 & 0.063542231 & 0.06641366\\\\\n",
       "\t presion3          & 0.047893703 & 0.078506885 & 0.08159393\\\\\n",
       "\t quimico2          & 0.042436978 & 0.076624305 & 0.08728653\\\\\n",
       "\t quimico3          & 0.026310798 & 0.041287965 & 0.05882353\\\\\n",
       "\t bombeo1           & 0.019876904 & 0.019548540 & 0.02087287\\\\\n",
       "\t temperatura2      & 0.018428276 & 0.028394787 & 0.04933586\\\\\n",
       "\t quimico5          & 0.016155645 & 0.022990863 & 0.03984820\\\\\n",
       "\t bombeo3           & 0.013662958 & 0.012632262 & 0.02277040\\\\\n",
       "\t numero.piezas     & 0.011604193 & 0.026870533 & 0.01138520\\\\\n",
       "\t presion1          & 0.008266548 & 0.009290592 & 0.02277040\\\\\n",
       "\t numero.granos     & 0.006844642 & 0.029961088 & 0.02466793\\\\\n",
       "\\end{tabular}\n"
      ],
      "text/markdown": [
       "\n",
       "A data.table: 17 × 4\n",
       "\n",
       "| Feature &lt;chr&gt; | Gain &lt;dbl&gt; | Cover &lt;dbl&gt; | Frequency &lt;dbl&gt; |\n",
       "|---|---|---|---|\n",
       "| longitud.objetivo | 0.301916313 | 0.112005495 | 0.02466793 |\n",
       "| quimico4          | 0.108361386 | 0.104947270 | 0.10056926 |\n",
       "| temperatura1      | 0.107264960 | 0.109254448 | 0.07779886 |\n",
       "| tiempo.solido     | 0.087132920 | 0.136052409 | 0.16698292 |\n",
       "| presion2          | 0.079289561 | 0.086340069 | 0.09487666 |\n",
       "| bombeo2           | 0.053402147 | 0.041750260 | 0.04933586 |\n",
       "| suciedad.molde    | 0.051152066 | 0.063542231 | 0.06641366 |\n",
       "| presion3          | 0.047893703 | 0.078506885 | 0.08159393 |\n",
       "| quimico2          | 0.042436978 | 0.076624305 | 0.08728653 |\n",
       "| quimico3          | 0.026310798 | 0.041287965 | 0.05882353 |\n",
       "| bombeo1           | 0.019876904 | 0.019548540 | 0.02087287 |\n",
       "| temperatura2      | 0.018428276 | 0.028394787 | 0.04933586 |\n",
       "| quimico5          | 0.016155645 | 0.022990863 | 0.03984820 |\n",
       "| bombeo3           | 0.013662958 | 0.012632262 | 0.02277040 |\n",
       "| numero.piezas     | 0.011604193 | 0.026870533 | 0.01138520 |\n",
       "| presion1          | 0.008266548 | 0.009290592 | 0.02277040 |\n",
       "| numero.granos     | 0.006844642 | 0.029961088 | 0.02466793 |\n",
       "\n"
      ],
      "text/plain": [
       "   Feature           Gain        Cover       Frequency \n",
       "1  longitud.objetivo 0.301916313 0.112005495 0.02466793\n",
       "2  quimico4          0.108361386 0.104947270 0.10056926\n",
       "3  temperatura1      0.107264960 0.109254448 0.07779886\n",
       "4  tiempo.solido     0.087132920 0.136052409 0.16698292\n",
       "5  presion2          0.079289561 0.086340069 0.09487666\n",
       "6  bombeo2           0.053402147 0.041750260 0.04933586\n",
       "7  suciedad.molde    0.051152066 0.063542231 0.06641366\n",
       "8  presion3          0.047893703 0.078506885 0.08159393\n",
       "9  quimico2          0.042436978 0.076624305 0.08728653\n",
       "10 quimico3          0.026310798 0.041287965 0.05882353\n",
       "11 bombeo1           0.019876904 0.019548540 0.02087287\n",
       "12 temperatura2      0.018428276 0.028394787 0.04933586\n",
       "13 quimico5          0.016155645 0.022990863 0.03984820\n",
       "14 bombeo3           0.013662958 0.012632262 0.02277040\n",
       "15 numero.piezas     0.011604193 0.026870533 0.01138520\n",
       "16 presion1          0.008266548 0.009290592 0.02277040\n",
       "17 numero.granos     0.006844642 0.029961088 0.02466793"
      ]
     },
     "metadata": {},
     "output_type": "display_data"
    }
   ],
   "source": [
    "# Importancia de cada variable en el modelo\n",
    "feature_importance <- xgb.importance(feature_names = xgb_model$feature_names, model = xgb_model)\n",
    "feature_importance"
   ]
  },
  {
   "cell_type": "code",
   "execution_count": 12,
   "metadata": {},
   "outputs": [
    {
     "data": {
      "image/png": "[encoded data removed]",
      "text/plain": [
       "plot without title"
      ]
     },
     "metadata": {
      "image/png": {
       "height": 720,
       "width": 960
      }
     },
     "output_type": "display_data"
    }
   ],
   "source": [
    "# Gráfico con la importancia\n",
    "options(repr.plot.width = 16, repr.plot.height = 12)\n",
    "xgb.ggplot.importance(importance_matrix = feature_importance, rel_to_first = TRUE)"
   ]
  },
  {
   "cell_type": "markdown",
   "metadata": {},
   "source": [
    "Para poder ver como de bueno es nuestro modelo, podemos obtener las predicciones que realiza sobre los conjuntos de entrenamiento y validación, y realizar el cálculo de alguna métrica para observar su rendimiento. En este caso, observaremos el **área bajo la curva ROC** (más conocido simplemente como AUC)."
   ]
  },
  {
   "cell_type": "code",
   "execution_count": 13,
   "metadata": {},
   "outputs": [],
   "source": [
    "# Ajuste/Rendimiento sobre datos de entrenamiento.\n",
    "pred_train <- predict(xgb_model, X_train)\n",
    "\n",
    "# Rendimiento sobre datos de validación\n",
    "pred_valid <- predict(xgb_model, X_valid)"
   ]
  },
  {
   "cell_type": "code",
   "execution_count": 14,
   "metadata": {},
   "outputs": [],
   "source": [
    "# Creamos un dataframe con la probabilidad de ser o no defectuosa la pieza\n",
    "# y añadimos el cálculo de la predicción final\n",
    "\n",
    "# Entrenamiento\n",
    "predictions_train <- data.frame('probability' = pred_train, \n",
    "                                'prediction' = ifelse(pred_train > 0.5, 1, 0))\n",
    "\n",
    "# Validación\n",
    "predictions_valid <- data.frame('probability' = pred_valid, \n",
    "                                'prediction' = ifelse(pred_valid > 0.5, 1, 0))"
   ]
  },
  {
   "cell_type": "code",
   "execution_count": 15,
   "metadata": {},
   "outputs": [
    {
     "name": "stderr",
     "output_type": "stream",
     "text": [
      "Setting levels: control = 0, case = 1\n",
      "\n",
      "Setting direction: controls < cases\n",
      "\n",
      "Setting levels: control = 0, case = 1\n",
      "\n",
      "Setting direction: controls < cases\n",
      "\n"
     ]
    }
   ],
   "source": [
    "# Cálculo de AUCs\n",
    "\n",
    "# Entrenamiento\n",
    "roc_train <- roc(y_train, predictions_train$prediction)\n",
    "auc_train <- round(auc(roc_train), 4)\n",
    "\n",
    "# Validación\n",
    "roc_valid <- roc(y_valid, predictions_valid$prediction)\n",
    "auc_valid <- round(auc(roc_valid), 4)"
   ]
  },
  {
   "cell_type": "code",
   "execution_count": 16,
   "metadata": {},
   "outputs": [
    {
     "name": "stdout",
     "output_type": "stream",
     "text": [
      "Área bajo la curva (AUC) en entrenamiento: 0.9977 \n",
      "Área bajo la curva (AUC) en validación: 0.7554"
     ]
    }
   ],
   "source": [
    "cat(paste('Área bajo la curva (AUC) en entrenamiento:', auc_train, '\\n'))\n",
    "cat(paste('Área bajo la curva (AUC) en validación:', auc_valid))"
   ]
  },
  {
   "cell_type": "markdown",
   "metadata": {},
   "source": [
    "## BLOQUE 3: Reducción del número de variables"
   ]
  },
  {
   "cell_type": "markdown",
   "metadata": {},
   "source": [
    "En este bloque se estudiará si es posible reducir el número de variables a utilizar por el _Gradient Boosting_. Se trata de una fase muy importante, pues, como ya se ha visto al medir la importancia, **no todas las variables causan un impacto importante** en el modelo. Además, utilizar un menor número de variables es preferible ya que implica una **simplificación el modelo** y una mayor interpretabilidad.\n",
    "\n",
    "Para encontrar el número más óptimo de variables entrenaremos diversos modelos de manera iterativa, incorporando de una en una las variables ordenadas por importancia en el modelo. Así, almacenaremos en cada iteración los AUC tanto del conjunto de entrenamiento como de validación, y observaremos con que número de variables obtenemos un rendimiento lo suficientemente bueno."
   ]
  },
  {
   "cell_type": "code",
   "execution_count": 17,
   "metadata": {},
   "outputs": [
    {
     "name": "stdout",
     "output_type": "stream",
     "text": [
      "Entrenamiento del modelo con  1  variables.\n",
      "================================================"
     ]
    },
    {
     "name": "stderr",
     "output_type": "stream",
     "text": [
      "Setting levels: control = 0, case = 1\n",
      "\n",
      "Setting direction: controls < cases\n",
      "\n",
      "Setting levels: control = 0, case = 1\n",
      "\n",
      "Setting direction: controls < cases\n",
      "\n"
     ]
    },
    {
     "name": "stdout",
     "output_type": "stream",
     "text": [
      "Entrenamiento del modelo con  2  variables.\n",
      "================================================"
     ]
    },
    {
     "name": "stderr",
     "output_type": "stream",
     "text": [
      "Setting levels: control = 0, case = 1\n",
      "\n",
      "Setting direction: controls < cases\n",
      "\n",
      "Setting levels: control = 0, case = 1\n",
      "\n",
      "Setting direction: controls < cases\n",
      "\n"
     ]
    },
    {
     "name": "stdout",
     "output_type": "stream",
     "text": [
      "Entrenamiento del modelo con  3  variables.\n",
      "================================================"
     ]
    },
    {
     "name": "stderr",
     "output_type": "stream",
     "text": [
      "Setting levels: control = 0, case = 1\n",
      "\n",
      "Setting direction: controls < cases\n",
      "\n",
      "Setting levels: control = 0, case = 1\n",
      "\n",
      "Setting direction: controls < cases\n",
      "\n"
     ]
    },
    {
     "name": "stdout",
     "output_type": "stream",
     "text": [
      "Entrenamiento del modelo con  4  variables.\n",
      "================================================"
     ]
    },
    {
     "name": "stderr",
     "output_type": "stream",
     "text": [
      "Setting levels: control = 0, case = 1\n",
      "\n",
      "Setting direction: controls < cases\n",
      "\n",
      "Setting levels: control = 0, case = 1\n",
      "\n",
      "Setting direction: controls < cases\n",
      "\n"
     ]
    },
    {
     "name": "stdout",
     "output_type": "stream",
     "text": [
      "Entrenamiento del modelo con  5  variables.\n",
      "================================================"
     ]
    },
    {
     "name": "stderr",
     "output_type": "stream",
     "text": [
      "Setting levels: control = 0, case = 1\n",
      "\n",
      "Setting direction: controls < cases\n",
      "\n",
      "Setting levels: control = 0, case = 1\n",
      "\n",
      "Setting direction: controls < cases\n",
      "\n"
     ]
    },
    {
     "name": "stdout",
     "output_type": "stream",
     "text": [
      "Entrenamiento del modelo con  6  variables.\n",
      "================================================"
     ]
    },
    {
     "name": "stderr",
     "output_type": "stream",
     "text": [
      "Setting levels: control = 0, case = 1\n",
      "\n",
      "Setting direction: controls < cases\n",
      "\n",
      "Setting levels: control = 0, case = 1\n",
      "\n",
      "Setting direction: controls < cases\n",
      "\n"
     ]
    },
    {
     "name": "stdout",
     "output_type": "stream",
     "text": [
      "Entrenamiento del modelo con  7  variables.\n",
      "================================================"
     ]
    },
    {
     "name": "stderr",
     "output_type": "stream",
     "text": [
      "Setting levels: control = 0, case = 1\n",
      "\n",
      "Setting direction: controls < cases\n",
      "\n",
      "Setting levels: control = 0, case = 1\n",
      "\n",
      "Setting direction: controls < cases\n",
      "\n"
     ]
    },
    {
     "name": "stdout",
     "output_type": "stream",
     "text": [
      "Entrenamiento del modelo con  8  variables.\n",
      "================================================"
     ]
    },
    {
     "name": "stderr",
     "output_type": "stream",
     "text": [
      "Setting levels: control = 0, case = 1\n",
      "\n",
      "Setting direction: controls < cases\n",
      "\n",
      "Setting levels: control = 0, case = 1\n",
      "\n",
      "Setting direction: controls < cases\n",
      "\n"
     ]
    },
    {
     "name": "stdout",
     "output_type": "stream",
     "text": [
      "Entrenamiento del modelo con  9  variables.\n",
      "================================================"
     ]
    },
    {
     "name": "stderr",
     "output_type": "stream",
     "text": [
      "Setting levels: control = 0, case = 1\n",
      "\n",
      "Setting direction: controls < cases\n",
      "\n",
      "Setting levels: control = 0, case = 1\n",
      "\n",
      "Setting direction: controls < cases\n",
      "\n"
     ]
    },
    {
     "name": "stdout",
     "output_type": "stream",
     "text": [
      "Entrenamiento del modelo con  10  variables.\n",
      "================================================"
     ]
    },
    {
     "name": "stderr",
     "output_type": "stream",
     "text": [
      "Setting levels: control = 0, case = 1\n",
      "\n",
      "Setting direction: controls < cases\n",
      "\n",
      "Setting levels: control = 0, case = 1\n",
      "\n",
      "Setting direction: controls < cases\n",
      "\n"
     ]
    },
    {
     "name": "stdout",
     "output_type": "stream",
     "text": [
      "Entrenamiento del modelo con  11  variables.\n",
      "================================================"
     ]
    },
    {
     "name": "stderr",
     "output_type": "stream",
     "text": [
      "Setting levels: control = 0, case = 1\n",
      "\n",
      "Setting direction: controls < cases\n",
      "\n",
      "Setting levels: control = 0, case = 1\n",
      "\n",
      "Setting direction: controls < cases\n",
      "\n"
     ]
    },
    {
     "name": "stdout",
     "output_type": "stream",
     "text": [
      "Entrenamiento del modelo con  12  variables.\n",
      "================================================"
     ]
    },
    {
     "name": "stderr",
     "output_type": "stream",
     "text": [
      "Setting levels: control = 0, case = 1\n",
      "\n",
      "Setting direction: controls < cases\n",
      "\n",
      "Setting levels: control = 0, case = 1\n",
      "\n",
      "Setting direction: controls < cases\n",
      "\n"
     ]
    },
    {
     "name": "stdout",
     "output_type": "stream",
     "text": [
      "Entrenamiento del modelo con  13  variables.\n",
      "================================================"
     ]
    },
    {
     "name": "stderr",
     "output_type": "stream",
     "text": [
      "Setting levels: control = 0, case = 1\n",
      "\n",
      "Setting direction: controls < cases\n",
      "\n",
      "Setting levels: control = 0, case = 1\n",
      "\n",
      "Setting direction: controls < cases\n",
      "\n"
     ]
    },
    {
     "name": "stdout",
     "output_type": "stream",
     "text": [
      "Entrenamiento del modelo con  14  variables.\n",
      "================================================"
     ]
    },
    {
     "name": "stderr",
     "output_type": "stream",
     "text": [
      "Setting levels: control = 0, case = 1\n",
      "\n",
      "Setting direction: controls < cases\n",
      "\n",
      "Setting levels: control = 0, case = 1\n",
      "\n",
      "Setting direction: controls < cases\n",
      "\n"
     ]
    },
    {
     "name": "stdout",
     "output_type": "stream",
     "text": [
      "Entrenamiento del modelo con  15  variables.\n",
      "================================================"
     ]
    },
    {
     "name": "stderr",
     "output_type": "stream",
     "text": [
      "Setting levels: control = 0, case = 1\n",
      "\n",
      "Setting direction: controls < cases\n",
      "\n",
      "Setting levels: control = 0, case = 1\n",
      "\n",
      "Setting direction: controls < cases\n",
      "\n"
     ]
    },
    {
     "name": "stdout",
     "output_type": "stream",
     "text": [
      "Entrenamiento del modelo con  16  variables.\n",
      "================================================"
     ]
    },
    {
     "name": "stderr",
     "output_type": "stream",
     "text": [
      "Setting levels: control = 0, case = 1\n",
      "\n",
      "Setting direction: controls < cases\n",
      "\n",
      "Setting levels: control = 0, case = 1\n",
      "\n",
      "Setting direction: controls < cases\n",
      "\n"
     ]
    },
    {
     "name": "stdout",
     "output_type": "stream",
     "text": [
      "Entrenamiento del modelo con  17  variables.\n",
      "================================================"
     ]
    },
    {
     "name": "stderr",
     "output_type": "stream",
     "text": [
      "Setting levels: control = 0, case = 1\n",
      "\n",
      "Setting direction: controls < cases\n",
      "\n",
      "Setting levels: control = 0, case = 1\n",
      "\n",
      "Setting direction: controls < cases\n",
      "\n"
     ]
    }
   ],
   "source": [
    "# Bucle for para obtener las AUCs del modelo según nº de variables\n",
    "auc_features <- data.frame('num_variables' = numeric(), 'auc_train' = numeric(), 'auc_valid' = numeric())\n",
    "\n",
    "for (i in 1:nrow(feature_importance)){\n",
    "    cat('Entrenamiento del modelo con ', i, ' variables.\\n')\n",
    "    cat('================================================')\n",
    "    \n",
    "    # Reducción de conjuntos\n",
    "    cols <- c(feature_importance[1:i, 'Feature'])$Feature\n",
    "    X_train_red <- as.matrix(X_train[, cols])\n",
    "    X_valid_red <- as.matrix(X_valid[, cols])\n",
    "    \n",
    "    # Ajuste del modelo y obtención de predicciones\n",
    "    set.seed(0)\n",
    "    model_red <- xgboost(data = X_train_red, label = y_train, params = params, nrounds = 30,\n",
    "                         verbose = 0)\n",
    "    \n",
    "    pred_train <- predict(model_red, X_train_red)\n",
    "    pred_train <- ifelse(pred_train > 0.5, 1, 0)\n",
    "    \n",
    "    pred_valid <- predict(model_red, X_valid_red)\n",
    "    pred_valid <- ifelse(pred_valid > 0.5, 1, 0)\n",
    "    \n",
    "    # AUCs\n",
    "    roc_train <- roc(y_train, pred_train)\n",
    "    auc_train <- round(auc(roc_train), 4)\n",
    "    \n",
    "    roc_valid <- roc(y_valid, pred_valid)\n",
    "    auc_valid <- round(auc(roc_valid), 4)\n",
    "    \n",
    "    # Añadimos la información al dataframe\n",
    "    auc_features[i, 'num_variables'] <- i\n",
    "    auc_features[i, 'auc_train'] <- auc_train\n",
    "    auc_features[i, 'auc_valid'] <- auc_valid\n",
    "}"
   ]
  },
  {
   "cell_type": "code",
   "execution_count": 18,
   "metadata": {},
   "outputs": [
    {
     "data": {
      "text/html": [
       "<table class=\"dataframe\">\n",
       "<caption>A data.frame: 17 × 3</caption>\n",
       "<thead>\n",
       "\t<tr><th></th><th scope=col>num_variables</th><th scope=col>auc_train</th><th scope=col>auc_valid</th></tr>\n",
       "\t<tr><th></th><th scope=col>&lt;dbl&gt;</th><th scope=col>&lt;dbl&gt;</th><th scope=col>&lt;dbl&gt;</th></tr>\n",
       "</thead>\n",
       "<tbody>\n",
       "\t<tr><th scope=row>1</th><td> 1</td><td>0.7880</td><td>0.7228</td></tr>\n",
       "\t<tr><th scope=row>2</th><td> 2</td><td>0.9009</td><td>0.7228</td></tr>\n",
       "\t<tr><th scope=row>3</th><td> 3</td><td>0.9493</td><td>0.7174</td></tr>\n",
       "\t<tr><th scope=row>4</th><td> 4</td><td>0.9816</td><td>0.7283</td></tr>\n",
       "\t<tr><th scope=row>5</th><td> 5</td><td>0.9931</td><td>0.7663</td></tr>\n",
       "\t<tr><th scope=row>6</th><td> 6</td><td>0.9954</td><td>0.7446</td></tr>\n",
       "\t<tr><th scope=row>7</th><td> 7</td><td>0.9931</td><td>0.7391</td></tr>\n",
       "\t<tr><th scope=row>8</th><td> 8</td><td>0.9954</td><td>0.7391</td></tr>\n",
       "\t<tr><th scope=row>9</th><td> 9</td><td>0.9954</td><td>0.7554</td></tr>\n",
       "\t<tr><th scope=row>10</th><td>10</td><td>1.0000</td><td>0.7391</td></tr>\n",
       "\t<tr><th scope=row>11</th><td>11</td><td>0.9977</td><td>0.7500</td></tr>\n",
       "\t<tr><th scope=row>12</th><td>12</td><td>1.0000</td><td>0.7500</td></tr>\n",
       "\t<tr><th scope=row>13</th><td>13</td><td>0.9977</td><td>0.7228</td></tr>\n",
       "\t<tr><th scope=row>14</th><td>14</td><td>0.9977</td><td>0.7174</td></tr>\n",
       "\t<tr><th scope=row>15</th><td>15</td><td>1.0000</td><td>0.7609</td></tr>\n",
       "\t<tr><th scope=row>16</th><td>16</td><td>0.9977</td><td>0.7337</td></tr>\n",
       "\t<tr><th scope=row>17</th><td>17</td><td>0.9977</td><td>0.7283</td></tr>\n",
       "</tbody>\n",
       "</table>\n"
      ],
      "text/latex": [
       "A data.frame: 17 × 3\n",
       "\\begin{tabular}{r|lll}\n",
       "  & num\\_variables & auc\\_train & auc\\_valid\\\\\n",
       "  & <dbl> & <dbl> & <dbl>\\\\\n",
       "\\hline\n",
       "\t1 &  1 & 0.7880 & 0.7228\\\\\n",
       "\t2 &  2 & 0.9009 & 0.7228\\\\\n",
       "\t3 &  3 & 0.9493 & 0.7174\\\\\n",
       "\t4 &  4 & 0.9816 & 0.7283\\\\\n",
       "\t5 &  5 & 0.9931 & 0.7663\\\\\n",
       "\t6 &  6 & 0.9954 & 0.7446\\\\\n",
       "\t7 &  7 & 0.9931 & 0.7391\\\\\n",
       "\t8 &  8 & 0.9954 & 0.7391\\\\\n",
       "\t9 &  9 & 0.9954 & 0.7554\\\\\n",
       "\t10 & 10 & 1.0000 & 0.7391\\\\\n",
       "\t11 & 11 & 0.9977 & 0.7500\\\\\n",
       "\t12 & 12 & 1.0000 & 0.7500\\\\\n",
       "\t13 & 13 & 0.9977 & 0.7228\\\\\n",
       "\t14 & 14 & 0.9977 & 0.7174\\\\\n",
       "\t15 & 15 & 1.0000 & 0.7609\\\\\n",
       "\t16 & 16 & 0.9977 & 0.7337\\\\\n",
       "\t17 & 17 & 0.9977 & 0.7283\\\\\n",
       "\\end{tabular}\n"
      ],
      "text/markdown": [
       "\n",
       "A data.frame: 17 × 3\n",
       "\n",
       "| <!--/--> | num_variables &lt;dbl&gt; | auc_train &lt;dbl&gt; | auc_valid &lt;dbl&gt; |\n",
       "|---|---|---|---|\n",
       "| 1 |  1 | 0.7880 | 0.7228 |\n",
       "| 2 |  2 | 0.9009 | 0.7228 |\n",
       "| 3 |  3 | 0.9493 | 0.7174 |\n",
       "| 4 |  4 | 0.9816 | 0.7283 |\n",
       "| 5 |  5 | 0.9931 | 0.7663 |\n",
       "| 6 |  6 | 0.9954 | 0.7446 |\n",
       "| 7 |  7 | 0.9931 | 0.7391 |\n",
       "| 8 |  8 | 0.9954 | 0.7391 |\n",
       "| 9 |  9 | 0.9954 | 0.7554 |\n",
       "| 10 | 10 | 1.0000 | 0.7391 |\n",
       "| 11 | 11 | 0.9977 | 0.7500 |\n",
       "| 12 | 12 | 1.0000 | 0.7500 |\n",
       "| 13 | 13 | 0.9977 | 0.7228 |\n",
       "| 14 | 14 | 0.9977 | 0.7174 |\n",
       "| 15 | 15 | 1.0000 | 0.7609 |\n",
       "| 16 | 16 | 0.9977 | 0.7337 |\n",
       "| 17 | 17 | 0.9977 | 0.7283 |\n",
       "\n"
      ],
      "text/plain": [
       "   num_variables auc_train auc_valid\n",
       "1   1            0.7880    0.7228   \n",
       "2   2            0.9009    0.7228   \n",
       "3   3            0.9493    0.7174   \n",
       "4   4            0.9816    0.7283   \n",
       "5   5            0.9931    0.7663   \n",
       "6   6            0.9954    0.7446   \n",
       "7   7            0.9931    0.7391   \n",
       "8   8            0.9954    0.7391   \n",
       "9   9            0.9954    0.7554   \n",
       "10 10            1.0000    0.7391   \n",
       "11 11            0.9977    0.7500   \n",
       "12 12            1.0000    0.7500   \n",
       "13 13            0.9977    0.7228   \n",
       "14 14            0.9977    0.7174   \n",
       "15 15            1.0000    0.7609   \n",
       "16 16            0.9977    0.7337   \n",
       "17 17            0.9977    0.7283   "
      ]
     },
     "metadata": {},
     "output_type": "display_data"
    }
   ],
   "source": [
    "# Dataframe que contiene la información del proceso iterativo\n",
    "auc_features"
   ]
  },
  {
   "cell_type": "code",
   "execution_count": 19,
   "metadata": {},
   "outputs": [
    {
     "data": {
      "image/png": "[encoded data removed]",
      "text/plain": [
       "plot without title"
      ]
     },
     "metadata": {
      "image/png": {
       "height": 600,
       "width": 1080
      }
     },
     "output_type": "display_data"
    }
   ],
   "source": [
    "# Gráfico que permite visualizar el AUC de los conjuntos según el nº de variables utilizadas\n",
    "options(repr.plot.width = 18, repr.plot.height = 10)\n",
    "\n",
    "p <- ggplot(data = auc_features)\n",
    "p <- p + geom_line(aes(x = num_variables, y = auc_train, colour = 'Entrenamiento'))\n",
    "p <- p + geom_line(aes(x = num_variables, y = auc_valid, colour = 'Validación'))\n",
    "p <- p + theme_bw()\n",
    "p <- p + theme(plot.title = element_text(size = 12, hjust = 0.5, face = \"bold\", color= \"grey20\"))\n",
    "p <- p + labs(title = 'Gradient Boosting AUC según nº de variables')\n",
    "p <- p + scale_x_continuous('Número de variables', breaks = seq(1, nrow(auc_features), 1))\n",
    "p <- p + scale_y_continuous('AUC')\n",
    "p <- p + scale_color_manual('', breaks = c('Entrenamiento', 'Validación'), \n",
    "                             values = c('Entrenamiento' = 'steelblue', 'Validación' = 'darkorange'))\n",
    "p"
   ]
  },
  {
   "cell_type": "code",
   "execution_count": 20,
   "metadata": {},
   "outputs": [],
   "source": [
    "# Selección de las variables a utilizar\n",
    "cols <- c(feature_importance[1:5, 'Feature'])$Feature\n",
    "\n",
    "# Reducción de los conjuntos\n",
    "X_train_red <- X_train[, cols]\n",
    "X_valid_red <- X_valid[, cols]\n",
    "X_test_red <- X_test[, cols]"
   ]
  },
  {
   "cell_type": "code",
   "execution_count": 21,
   "metadata": {},
   "outputs": [],
   "source": [
    "# Nuevo modelo con la reducción de variables\n",
    "set.seed(0)\n",
    "xgb_model_red <- xgboost(data = X_train_red, label = y_train, params = params, nrounds = 30,\n",
    "                         verbose = 0)"
   ]
  },
  {
   "cell_type": "code",
   "execution_count": 22,
   "metadata": {},
   "outputs": [
    {
     "name": "stderr",
     "output_type": "stream",
     "text": [
      "Setting levels: control = 0, case = 1\n",
      "\n",
      "Setting direction: controls < cases\n",
      "\n",
      "Setting levels: control = 0, case = 1\n",
      "\n",
      "Setting direction: controls < cases\n",
      "\n"
     ]
    },
    {
     "name": "stdout",
     "output_type": "stream",
     "text": [
      "Área bajo la curva (AUC) en entrenamiento: 0.9931 \n",
      "Área bajo la curva (AUC) en validación: 0.7663"
     ]
    }
   ],
   "source": [
    "# Rendimiento del modelo en conjuntos de entrenamiento y validación (AUCs)\n",
    "\n",
    "# Entrenamiento\n",
    "pred_train <- predict(xgb_model_red, X_train_red)\n",
    "pred_train <- ifelse(pred_train > 0.5, 1, 0)\n",
    "\n",
    "roc_train <- roc(y_train, pred_train)\n",
    "auc_train <- round(auc(roc_train), 4)\n",
    "\n",
    "# Validación\n",
    "pred_valid <- predict(xgb_model_red, X_valid_red)\n",
    "pred_valid <- ifelse(pred_valid > 0.5, 1, 0)\n",
    "\n",
    "roc_valid <- roc(y_valid, pred_valid)\n",
    "auc_valid <- round(auc(roc_valid), 4)\n",
    "\n",
    "# Resultados\n",
    "cat('Área bajo la curva (AUC) en entrenamiento:', auc_train, '\\n')\n",
    "cat('Área bajo la curva (AUC) en validación:', auc_valid)"
   ]
  },
  {
   "cell_type": "markdown",
   "metadata": {},
   "source": [
    "## BLOQUE 4: Ajuste de hiperparámetros y modelo final"
   ]
  },
  {
   "cell_type": "markdown",
   "metadata": {},
   "source": [
    "Una vez seleccionadas las variables a utilizar en nuestro modelo, faltaría realizar el correspondiente **ajuste de los hiperparámetros**. Estos valores deber ser establecidos antes del entrenamiento, y de su correcta elección dependerá el resultado que obtendremos.\n",
    "\n",
    "Los hiperparámetros ideales dependen del perfil de los datos que estamos analizando, por lo que no es sencillo establecer un procedimiento estándar para su obtención. En este caso realizaremos un **ajuste manual** de los mismos, observando directamente el cambio en el rendimiento del modelo aplicado a los datos de validación."
   ]
  },
  {
   "cell_type": "code",
   "execution_count": 23,
   "metadata": {},
   "outputs": [
    {
     "name": "stderr",
     "output_type": "stream",
     "text": [
      "Setting levels: control = 0, case = 1\n",
      "\n",
      "Setting direction: controls < cases\n",
      "\n",
      "Setting levels: control = 0, case = 1\n",
      "\n",
      "Setting direction: controls < cases\n",
      "\n"
     ]
    },
    {
     "name": "stdout",
     "output_type": "stream",
     "text": [
      "Nuevo área bajo la curva (AUC) en entrenamiento: 0.9309 \n",
      "Nuevo área bajo la curva (AUC) en validación: 0.7283"
     ]
    }
   ],
   "source": [
    "# Cambio en los valores de los hiperparámetros\n",
    "best_params <- list(objective = 'binary:logistic',\n",
    "                    nthread = 4,\n",
    "                    max_depth = 3,\n",
    "                    eta = 0.2,\n",
    "                    eval_metric = 'auc')\n",
    "\n",
    "# Entrenamiento del modelo con los nuevos valores\n",
    "set.seed(0)\n",
    "best_xgb_model <- xgboost(data = X_train_red, label = y_train, params = best_params, nrounds = 50,\n",
    "                          verbose = 0)\n",
    "\n",
    "# Rendimiento del nuevo modelo en los conjuntos de entrenamiento y validación\n",
    "# Entrenamiento\n",
    "new_pred_train <- predict(best_xgb_model, X_train_red)\n",
    "new_pred_train <- ifelse(new_pred_train > 0.5, 1, 0)\n",
    "\n",
    "new_roc_train <- roc(y_train, new_pred_train)\n",
    "new_auc_train <- round(auc(new_roc_train), 4)\n",
    "\n",
    "# Validación\n",
    "new_pred_valid <- predict(best_xgb_model, X_valid_red)\n",
    "new_pred_valid <- ifelse(new_pred_valid > 0.5, 1, 0)\n",
    "\n",
    "new_roc_valid <- roc(y_valid, new_pred_valid)\n",
    "new_auc_valid <- round(auc(new_roc_valid), 4)\n",
    "\n",
    "# Resultados\n",
    "cat('Nuevo área bajo la curva (AUC) en entrenamiento:', new_auc_train, '\\n')\n",
    "cat('Nuevo área bajo la curva (AUC) en validación:', new_auc_valid)"
   ]
  },
  {
   "cell_type": "markdown",
   "metadata": {},
   "source": [
    "Obtenido ya nuestro mejor modelo, podemos observar su rendimiento sobre unos datos totalmente nuevos y más reales: el conjunto de test. Para ello, además de mostrar el AUC como veníamos haciendo a lo largo del análisis, observaremos también la **matriz de confusión**:"
   ]
  },
  {
   "cell_type": "code",
   "execution_count": 24,
   "metadata": {},
   "outputs": [
    {
     "name": "stderr",
     "output_type": "stream",
     "text": [
      "Setting levels: control = 0, case = 1\n",
      "\n",
      "Setting direction: controls < cases\n",
      "\n"
     ]
    },
    {
     "name": "stdout",
     "output_type": "stream",
     "text": [
      "Área bajo la curva (AUC) en test: 0.7665"
     ]
    }
   ],
   "source": [
    "# Predicciones en conjunto de test\n",
    "pred_test <- predict(best_xgb_model, X_test_red)\n",
    "pred_test <- ifelse(pred_test > 0.5, 1, 0)\n",
    "\n",
    "# Área bajo la curva\n",
    "roc_test <- roc(y_test, pred_test)\n",
    "auc_test <- round(auc(roc_test), 4)\n",
    "\n",
    "cat('Área bajo la curva (AUC) en test:', auc_test)"
   ]
  },
  {
   "cell_type": "code",
   "execution_count": 25,
   "metadata": {},
   "outputs": [
    {
     "name": "stdout",
     "output_type": "stream",
     "text": [
      "Matriz de confusión para datos de test:\n",
      "\n",
      "         y_test\n",
      "pred_test     0     1\n",
      "        0 79.11 25.81\n",
      "        1 20.89 74.19\n"
     ]
    }
   ],
   "source": [
    "# Matriz de confusión\n",
    "cm_test <- round(prop.table(table(pred_test, y_test), 2)*100, 2)\n",
    "\n",
    "cat('Matriz de confusión para datos de test:\\n\\n')\n",
    "print(cm_test)"
   ]
  },
  {
   "cell_type": "code",
   "execution_count": 26,
   "metadata": {},
   "outputs": [
    {
     "data": {
      "text/plain": [
       "Confusion Matrix and Statistics\n",
       "\n",
       "          Reference\n",
       "Prediction   0   1\n",
       "         0 818  32\n",
       "         1 216  92\n",
       "                                          \n",
       "               Accuracy : 0.7858          \n",
       "                 95% CI : (0.7611, 0.8091)\n",
       "    No Information Rate : 0.8929          \n",
       "    P-Value [Acc > NIR] : 1               \n",
       "                                          \n",
       "                  Kappa : 0.3225          \n",
       "                                          \n",
       " Mcnemar's Test P-Value : <2e-16          \n",
       "                                          \n",
       "            Sensitivity : 0.74194         \n",
       "            Specificity : 0.79110         \n",
       "         Pos Pred Value : 0.29870         \n",
       "         Neg Pred Value : 0.96235         \n",
       "              Precision : 0.29870         \n",
       "                 Recall : 0.74194         \n",
       "                     F1 : 0.42593         \n",
       "             Prevalence : 0.10708         \n",
       "         Detection Rate : 0.07945         \n",
       "   Detection Prevalence : 0.26598         \n",
       "      Balanced Accuracy : 0.76652         \n",
       "                                          \n",
       "       'Positive' Class : 1               \n",
       "                                          "
      ]
     },
     "metadata": {},
     "output_type": "display_data"
    }
   ],
   "source": [
    "# Otra manera de obtener la matriz de confusión, junto con otras métricas\n",
    "cm_test2 <- confusionMatrix(as.factor(pred_test), as.factor(y_test), mode = 'everything',\n",
    "                            positive = '1')\n",
    "cm_test2"
   ]
  },
  {
   "cell_type": "markdown",
   "metadata": {},
   "source": [
    "También es posible si se desea observar los árboles que son construidos en el modelo y que establecen las relaciones entre las variables utilizadas en cada uno de ellos:"
   ]
  },
  {
   "cell_type": "raw",
   "metadata": {},
   "source": [
    "# IMPORTANTE!!: Tiempo de ejecución muy largo. Evitar ejecutar\n",
    "xgb.plot.tree(feature_names = best_xgb_model$feature_names, model = best_xgb_model, trees = 0)"
   ]
  },
  {
   "cell_type": "markdown",
   "metadata": {},
   "source": [
    "Para terminar, debemos guardar nuestro modelo ya entrenado, de manera que cuando se desee utilizar solo sea necesario cargarlo y aplicarlo a nuevos conjuntos de datos."
   ]
  },
  {
   "cell_type": "code",
   "execution_count": 27,
   "metadata": {},
   "outputs": [
    {
     "data": {
      "text/html": [
       "TRUE"
      ],
      "text/latex": [
       "TRUE"
      ],
      "text/markdown": [
       "TRUE"
      ],
      "text/plain": [
       "[1] TRUE"
      ]
     },
     "metadata": {},
     "output_type": "display_data"
    }
   ],
   "source": [
    "# Guardado del modelo ya entrenado\n",
    "xgb.save(best_xgb_model, 'modelo_entrenado')"
   ]
  }
 ],
 "metadata": {
  "kernelspec": {
   "display_name": "R",
   "language": "R",
   "name": "ir"
  },
  "language_info": {
   "codemirror_mode": "r",
   "file_extension": ".r",
   "mimetype": "text/x-r-source",
   "name": "R",
   "pygments_lexer": "r",
   "version": "4.0.5"
  }
 },
 "nbformat": 4,
 "nbformat_minor": 4
}
